{
 "cells": [
  {
   "cell_type": "code",
   "execution_count": 39,
   "id": "da6c0fc9-d5e0-44c7-ab0c-8549535a1590",
   "metadata": {},
   "outputs": [],
   "source": [
    "from PIL import Image, ImageDraw\n",
    "import random\n"
   ]
  },
  {
   "cell_type": "code",
   "execution_count": 40,
   "id": "c8c945ab-03eb-4e29-a20f-2c07261487f0",
   "metadata": {},
   "outputs": [],
   "source": [
    "# Create a blank canvas (RGB mode, 700x700 pixels, white background)\n",
    "img = Image.new('RGB', (700, 700), color='white')\n",
    "\n",
    "val1 = random.randint(0, 255)\n",
    "val2 = random.randint(0, 255)\n",
    "val3 = random.randint(0, 255)\n",
    "\n",
    "# left\n",
    "draw = ImageDraw.Draw(img)\n",
    "for i in range(3):  # outer loop\n",
    "    for x in range(7):  # inner loop\n",
    "        # Define the top-left corner and bottom-right corner of the rectangle\n",
    "        top_left = (i * 100, x * 100)\n",
    "        bottom_right = ((i + 1) * 100, (x + 1) * 100)\n",
    "        \n",
    "        if (x % 2 == random.randint(0, 1) and i % 2 == random.randint(0, 1)) or (x % 2 == random.randint(0, 1) and i % 2 == random.randint(0, 1)):\n",
    "            # Draw the rectangle with random color\n",
    "            draw.rectangle([top_left, bottom_right], fill=(val1, val2, val3))\n",
    "        else:\n",
    "            draw.rectangle([top_left, bottom_right], fill=(val3, val2, val1))\n",
    "            \n",
    "#middle\n",
    "for i in range(3, 4):  # outer loop\n",
    "    for x in range(7):  # inner loop\n",
    "        # Define the top-left corner and bottom-right corner of the rectangle\n",
    "        top_left = (i * 100, x * 100)\n",
    "        bottom_right = ((i + 1) * 100, (x + 1) * 100)\n",
    "        \n",
    "        if (x % 2 == random.randint(0, 1) and i % 2 == random.randint(0, 1)) or (x % 2 == random.randint(0, 1) and i % 2 == random.randint(0, 1)):\n",
    "            # Draw the rectangle with random color\n",
    "            draw.rectangle([top_left, bottom_right], fill=(val1, val2, val3))\n",
    "        else:\n",
    "            draw.rectangle([top_left, bottom_right], fill=(val3, val2, val1))\n",
    "\n",
    "#right\n",
    "for i in range(4, 7):  # outer loop\n",
    "    for x in range(7):  # inner loop\n",
    "        # Define the top-left corner and bottom-right corner of the rectangle\n",
    "        top_left = (i * 100, x * 100)\n",
    "        bottom_right = ((i + 1) * 100, (x + 1) * 100)\n",
    "        \n",
    "        if (x % 2 == random.randint(0, 1) and i % 2 == random.randint(0, 1)) or (x % 2 == random.randint(0, 1) and i % 2 == random.randint(0, 1)):\n",
    "            # Draw the rectangle with random color\n",
    "            draw.rectangle([top_left, bottom_right], fill=(val1, val2, val3))\n",
    "        else:\n",
    "            draw.rectangle([top_left, bottom_right], fill=(val3, val2, val1))\n",
    "\n",
    "# Save to PNG\n",
    "img.save('output.png')"
   ]
  },
  {
   "cell_type": "code",
   "execution_count": null,
   "id": "38a10251-9a02-4ac8-a64b-a8610158d1d7",
   "metadata": {},
   "outputs": [],
   "source": []
  }
 ],
 "metadata": {
  "kernelspec": {
   "display_name": "Python 3 (ipykernel)",
   "language": "python",
   "name": "python3"
  },
  "language_info": {
   "codemirror_mode": {
    "name": "ipython",
    "version": 3
   },
   "file_extension": ".py",
   "mimetype": "text/x-python",
   "name": "python",
   "nbconvert_exporter": "python",
   "pygments_lexer": "ipython3",
   "version": "3.11.9"
  }
 },
 "nbformat": 4,
 "nbformat_minor": 5
}
